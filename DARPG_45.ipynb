{
  "nbformat": 4,
  "nbformat_minor": 0,
  "metadata": {
    "colab": {
      "provenance": [],
      "authorship_tag": "ABX9TyNcUY782LAzE7r80C5FbNwI",
      "include_colab_link": true
    },
    "kernelspec": {
      "name": "python3",
      "display_name": "Python 3"
    },
    "language_info": {
      "name": "python"
    }
  },
  "cells": [
    {
      "cell_type": "markdown",
      "metadata": {
        "id": "view-in-github",
        "colab_type": "text"
      },
      "source": [
        "<a href=\"https://colab.research.google.com/github/athrvadeshmukh/DARPG-HACKATHON/blob/main/DARPG_45.ipynb\" target=\"_parent\"><img src=\"https://colab.research.google.com/assets/colab-badge.svg\" alt=\"Open In Colab\"/></a>"
      ]
    },
    {
      "cell_type": "code",
      "source": [
        "\n",
        "pip install git+https://github.com/openai/whisper.git"
      ],
      "metadata": {
        "colab": {
          "base_uri": "https://localhost:8080/"
        },
        "id": "2OsNdOnofj8j",
        "outputId": "4e83ab45-b3b6-45b5-9133-99335136c3ef"
      },
      "execution_count": null,
      "outputs": [
        {
          "output_type": "stream",
          "name": "stdout",
          "text": [
            "Collecting git+https://github.com/openai/whisper.git\n",
            "  Cloning https://github.com/openai/whisper.git to /tmp/pip-req-build-cjp16b5v\n",
            "  Running command git clone --filter=blob:none --quiet https://github.com/openai/whisper.git /tmp/pip-req-build-cjp16b5v\n",
            "  Resolved https://github.com/openai/whisper.git to commit ba3f3cd54b0e5b8ce1ab3de13e32122d0d5f98ab\n",
            "  Installing build dependencies ... \u001b[?25l\u001b[?25hdone\n",
            "  Getting requirements to build wheel ... \u001b[?25l\u001b[?25hdone\n",
            "  Preparing metadata (pyproject.toml) ... \u001b[?25l\u001b[?25hdone\n",
            "Requirement already satisfied: numba in /usr/local/lib/python3.10/dist-packages (from openai-whisper==20231117) (0.58.1)\n",
            "Requirement already satisfied: numpy in /usr/local/lib/python3.10/dist-packages (from openai-whisper==20231117) (1.25.2)\n",
            "Requirement already satisfied: torch in /usr/local/lib/python3.10/dist-packages (from openai-whisper==20231117) (2.1.0+cu121)\n",
            "Requirement already satisfied: tqdm in /usr/local/lib/python3.10/dist-packages (from openai-whisper==20231117) (4.66.2)\n",
            "Requirement already satisfied: more-itertools in /usr/local/lib/python3.10/dist-packages (from openai-whisper==20231117) (10.1.0)\n",
            "Collecting tiktoken (from openai-whisper==20231117)\n",
            "  Downloading tiktoken-0.6.0-cp310-cp310-manylinux_2_17_x86_64.manylinux2014_x86_64.whl (1.8 MB)\n",
            "\u001b[2K     \u001b[90m━━━━━━━━━━━━━━━━━━━━━━━━━━━━━━━━━━━━━━━━\u001b[0m \u001b[32m1.8/1.8 MB\u001b[0m \u001b[31m7.8 MB/s\u001b[0m eta \u001b[36m0:00:00\u001b[0m\n",
            "\u001b[?25hRequirement already satisfied: triton<3,>=2.0.0 in /usr/local/lib/python3.10/dist-packages (from openai-whisper==20231117) (2.1.0)\n",
            "Requirement already satisfied: filelock in /usr/local/lib/python3.10/dist-packages (from triton<3,>=2.0.0->openai-whisper==20231117) (3.13.1)\n",
            "Requirement already satisfied: llvmlite<0.42,>=0.41.0dev0 in /usr/local/lib/python3.10/dist-packages (from numba->openai-whisper==20231117) (0.41.1)\n",
            "Requirement already satisfied: regex>=2022.1.18 in /usr/local/lib/python3.10/dist-packages (from tiktoken->openai-whisper==20231117) (2023.12.25)\n",
            "Requirement already satisfied: requests>=2.26.0 in /usr/local/lib/python3.10/dist-packages (from tiktoken->openai-whisper==20231117) (2.31.0)\n",
            "Requirement already satisfied: typing-extensions in /usr/local/lib/python3.10/dist-packages (from torch->openai-whisper==20231117) (4.10.0)\n",
            "Requirement already satisfied: sympy in /usr/local/lib/python3.10/dist-packages (from torch->openai-whisper==20231117) (1.12)\n",
            "Requirement already satisfied: networkx in /usr/local/lib/python3.10/dist-packages (from torch->openai-whisper==20231117) (3.2.1)\n",
            "Requirement already satisfied: jinja2 in /usr/local/lib/python3.10/dist-packages (from torch->openai-whisper==20231117) (3.1.3)\n",
            "Requirement already satisfied: fsspec in /usr/local/lib/python3.10/dist-packages (from torch->openai-whisper==20231117) (2023.6.0)\n",
            "Requirement already satisfied: charset-normalizer<4,>=2 in /usr/local/lib/python3.10/dist-packages (from requests>=2.26.0->tiktoken->openai-whisper==20231117) (3.3.2)\n",
            "Requirement already satisfied: idna<4,>=2.5 in /usr/local/lib/python3.10/dist-packages (from requests>=2.26.0->tiktoken->openai-whisper==20231117) (3.6)\n",
            "Requirement already satisfied: urllib3<3,>=1.21.1 in /usr/local/lib/python3.10/dist-packages (from requests>=2.26.0->tiktoken->openai-whisper==20231117) (2.0.7)\n",
            "Requirement already satisfied: certifi>=2017.4.17 in /usr/local/lib/python3.10/dist-packages (from requests>=2.26.0->tiktoken->openai-whisper==20231117) (2024.2.2)\n",
            "Requirement already satisfied: MarkupSafe>=2.0 in /usr/local/lib/python3.10/dist-packages (from jinja2->torch->openai-whisper==20231117) (2.1.5)\n",
            "Requirement already satisfied: mpmath>=0.19 in /usr/local/lib/python3.10/dist-packages (from sympy->torch->openai-whisper==20231117) (1.3.0)\n",
            "Building wheels for collected packages: openai-whisper\n",
            "  Building wheel for openai-whisper (pyproject.toml) ... \u001b[?25l\u001b[?25hdone\n",
            "  Created wheel for openai-whisper: filename=openai_whisper-20231117-py3-none-any.whl size=802825 sha256=092e4edd6ad3245dd22505a9f0a2523ff05da856d140372f0051e317d632286a\n",
            "  Stored in directory: /tmp/pip-ephem-wheel-cache-_jf9nejg/wheels/8b/6c/d0/622666868c179f156cf595c8b6f06f88bc5d80c4b31dccaa03\n",
            "Successfully built openai-whisper\n",
            "Installing collected packages: tiktoken, openai-whisper\n",
            "Successfully installed openai-whisper-20231117 tiktoken-0.6.0\n"
          ]
        }
      ]
    },
    {
      "cell_type": "code",
      "source": [
        "import whisper\n",
        "model = whisper.load_model(\"small\")\n",
        "result = model.transcribe(\"audio.mp3\", fp16=False,task='translate',verbose=True)\n",
        "print(result[\"text\"])"
      ],
      "metadata": {
        "id": "tL9muqdwgq0p",
        "colab": {
          "base_uri": "https://localhost:8080/"
        },
        "outputId": "a3c52a5f-2e80-41a5-8016-8b8cdde9f685"
      },
      "execution_count": null,
      "outputs": [
        {
          "output_type": "stream",
          "name": "stderr",
          "text": [
            "100%|███████████████████████████████████████| 461M/461M [00:05<00:00, 93.8MiB/s]\n"
          ]
        },
        {
          "output_type": "stream",
          "name": "stdout",
          "text": [
            "Detecting language using up to the first 30 seconds. Use `--language` to specify the language\n",
            "Detected language: Hindi\n",
            "[00:00.000 --> 00:02.000]  Hello.\n",
            "[00:02.000 --> 00:03.000]  Hello.\n",
            "[00:03.000 --> 00:05.000]  Welcome to my department of Admin.\n",
            "[00:05.000 --> 00:10.000]  We are here to talk about the reforms and public events.\n",
            "[00:10.000 --> 00:12.000]  Tell me the name.\n",
            "[00:12.000 --> 00:14.000]  Yes, tell me.\n",
            "[00:14.000 --> 00:17.000]  This is what I am talking about with Siddharth.\n",
            "[00:17.000 --> 00:18.000]  Yes.\n",
            "[00:18.000 --> 00:22.000]  You were in the Shri K.G. portal.\n",
            "[00:22.000 --> 00:24.000]  Where?\n",
            "[00:24.000 --> 00:26.000]  In Shri K.G. portal.\n",
            "[00:26.000 --> 00:30.000]  What is the name of the thing?\n",
            "[00:30.000 --> 00:39.000]  You have been in the Shri K.G. portal for months.\n",
            "[00:39.000 --> 00:42.000]  About the public events portal.\n",
            "[00:42.000 --> 00:43.000]  Yes.\n",
            "[00:43.000 --> 00:46.000]  So, you have been in the Shri K.G. portal for months.\n",
            "[00:46.000 --> 00:48.000]  Actually, I am traveling right now.\n",
            "[00:48.000 --> 00:49.000]  I am in the train.\n",
            "[00:49.000 --> 00:50.000]  Yes.\n",
            "[00:50.000 --> 00:54.000]  So, if you can call later, it is better.\n",
            "[00:54.000 --> 00:58.000]  I had already talked to you about it and told you to open it.\n",
            "[00:58.000 --> 01:01.000]  Yes, you were not able to complete the service.\n",
            "[01:01.000 --> 01:03.000]  So, you have been called again.\n",
            "[01:03.000 --> 01:07.000]  So, the complaint number is 0101550.\n",
            "[01:07.000 --> 01:11.000]  Have you been satisfied with this?\n",
            "[01:11.000 --> 01:13.000]  I am not satisfied.\n",
            "[01:13.000 --> 01:15.000]  You are not satisfied?\n",
            "[01:15.000 --> 01:18.000]  So, you have been in the Shri K.G. portal for months.\n",
            "[01:18.000 --> 01:20.000]  What is your satisfaction?\n",
            "[01:20.000 --> 01:22.000]  I am not satisfied.\n",
            "[01:22.000 --> 01:24.000]  I have not received any resolution.\n",
            "[01:24.000 --> 01:29.000]  I have not received any resolution when I had sent my problem.\n",
            "[01:29.000 --> 01:31.000]  Okay, sir.\n",
            "[01:31.000 --> 01:32.000]  I am sorry.\n",
            "[01:32.000 --> 01:36.000]  Your concern is that you should follow the policies.\n",
            "[01:36.000 --> 01:40.000]  So, the car rating should be 4 or as per Shri K.G. portal.\n",
            "[01:40.000 --> 01:41.000]  4, 4, 4.\n",
            "[01:41.000 --> 01:42.000]  I am sorry.\n",
            "[01:42.000 --> 01:43.000]  I am sorry.\n",
            "[01:43.000 --> 01:47.000]  Your concern is that you should follow the policies.\n",
            "[01:47.000 --> 01:52.000]  Sir, if you do not receive any resolution,\n",
            "[01:52.000 --> 01:55.000]  you should ask again when you are done with the complaint.\n",
            "[01:55.000 --> 01:58.000]  So, what is your satisfaction?\n",
            "[01:58.000 --> 02:00.000]  I will not go to the appeal now.\n",
            "[02:00.000 --> 02:05.000]  I am still in communication with the department.\n",
            "[02:05.000 --> 02:10.000]  So, I will conclude after that and will be back in the next step.\n",
            "[02:11.000 --> 02:12.000]  Okay.\n",
            "[02:12.000 --> 02:16.000]  Sir, your concern is that you should follow the policies.\n",
            "[02:16.000 --> 02:18.000]  So, you should follow the policies.\n",
            "[02:18.000 --> 02:20.000]  Thank you.\n",
            "[02:20.000 --> 02:21.000]  Thank you.\n",
            " Hello. Hello. Welcome to my department of Admin. We are here to talk about the reforms and public events. Tell me the name. Yes, tell me. This is what I am talking about with Siddharth. Yes. You were in the Shri K.G. portal. Where? In Shri K.G. portal. What is the name of the thing? You have been in the Shri K.G. portal for months. About the public events portal. Yes. So, you have been in the Shri K.G. portal for months. Actually, I am traveling right now. I am in the train. Yes. So, if you can call later, it is better. I had already talked to you about it and told you to open it. Yes, you were not able to complete the service. So, you have been called again. So, the complaint number is 0101550. Have you been satisfied with this? I am not satisfied. You are not satisfied? So, you have been in the Shri K.G. portal for months. What is your satisfaction? I am not satisfied. I have not received any resolution. I have not received any resolution when I had sent my problem. Okay, sir. I am sorry. Your concern is that you should follow the policies. So, the car rating should be 4 or as per Shri K.G. portal. 4, 4, 4. I am sorry. I am sorry. Your concern is that you should follow the policies. Sir, if you do not receive any resolution, you should ask again when you are done with the complaint. So, what is your satisfaction? I will not go to the appeal now. I am still in communication with the department. So, I will conclude after that and will be back in the next step. Okay. Sir, your concern is that you should follow the policies. So, you should follow the policies. Thank you. Thank you.\n"
          ]
        }
      ]
    },
    {
      "cell_type": "code",
      "source": [
        "import whisper\n",
        "model = whisper.load_model(\"large-v3\")\n",
        "result = model.transcribe(\"audio1.mp3\", fp16=False,task='translate',verbose=True)\n",
        "print(result[\"text\"])\n",
        "\n"
      ],
      "metadata": {
        "colab": {
          "base_uri": "https://localhost:8080/"
        },
        "id": "j7TgMnM9nVu2",
        "outputId": "eed51199-0474-465d-a44f-ceeedd4e6bea"
      },
      "execution_count": null,
      "outputs": [
        {
          "output_type": "stream",
          "name": "stderr",
          "text": [
            "100%|█████████████████████████████████████| 2.88G/2.88G [00:44<00:00, 69.5MiB/s]\n"
          ]
        },
        {
          "output_type": "stream",
          "name": "stdout",
          "text": [
            "Detecting language using up to the first 30 seconds. Use `--language` to specify the language\n",
            "Detected language: Hindi\n",
            "[00:00.000 --> 00:03.000]  Hello\n",
            "[00:03.000 --> 00:10.000]  Hello, I am from Department of Administrative Reforms and Public Revenues, Mahita from New Delhi.\n",
            "[00:10.000 --> 00:13.000]  I am talking to Mr. Jayjit Ikar.\n",
            "[00:13.000 --> 00:15.000]  Yes, tell me.\n",
            "[00:15.000 --> 00:23.000]  Mr. Jayjit, you lost your grievance to Department of Financial Services regarding Reserve Bank of India on 7th November, 2013.\n",
            "[00:23.000 --> 00:31.000]  Your grievance number 0076180. A survey has been called to know your satisfaction level.\n",
            "[00:31.000 --> 00:36.000]  Sir, have you checked the answer given to you by the Department?\n",
            "[00:36.000 --> 00:39.000]  No, I didn't understand.\n",
            "[00:39.000 --> 00:43.000]  Sir, you raised your grievance and filed a complaint to the Department.\n",
            "[00:43.000 --> 00:44.000]  Yes.\n",
            "[00:44.000 --> 00:50.000]  You wrote that you get a call from an unknown number and OTP is asked.\n",
            "[00:50.000 --> 00:52.000]  Yes, sir, I get a lot.\n",
            "[00:52.000 --> 00:53.000]  Yes, sir, I get a lot.\n",
            "[00:53.000 --> 00:55.000]  I get a lot of spam calls.\n",
            "[00:55.000 --> 00:56.000]  Yes, sir.\n",
            "[00:56.000 --> 00:58.000]  So, you were called regarding this.\n",
            "[00:58.000 --> 01:00.000]  Sir, you were given the answer from the Department.\n",
            "[01:00.000 --> 01:06.000]  They said that the information given to you regarding your complaint is enough.\n",
            "[01:06.000 --> 01:08.000]  You have not given enough information.\n",
            "[01:08.000 --> 01:10.000]  Because of which, the case is not being filed.\n",
            "[01:10.000 --> 01:12.000]  So, you will have to file a complaint.\n",
            "[01:12.000 --> 01:18.000]  Your bank name and details of the complaint will have to be mentioned.\n",
            "[01:18.000 --> 01:22.000]  The number from which the call is coming, it will be mentioned there.\n",
            "[01:22.000 --> 01:25.000]  So that it can be filed properly.\n",
            "[01:25.000 --> 01:27.000]  Ok, ok.\n",
            "[01:27.000 --> 01:30.000]  Sir, you have called from the city, right?\n",
            "[01:30.000 --> 01:31.000]  Yes, sir.\n",
            "[01:31.000 --> 01:35.000]  Sir, I have to complain about one more thing.\n",
            "[01:35.000 --> 01:36.000]  Yes.\n",
            "[01:36.000 --> 01:38.000]  Sir, there is a lack of network in our village.\n",
            "[01:38.000 --> 01:40.000]  Can anything happen in that?\n",
            "[01:40.000 --> 01:41.000]  Yes, absolutely, sir.\n",
            "[01:41.000 --> 01:45.000]  You can file a complaint in the telecommunications department.\n",
            "[01:45.000 --> 01:47.000]  If there is a network issue.\n",
            "[01:47.000 --> 01:49.000]  That means, it is too much.\n",
            "[01:49.000 --> 01:50.000]  Yes, sir.\n",
            "[01:50.000 --> 01:51.000]  You can file a complaint.\n",
            "[01:51.000 --> 01:56.000]  But, the problem related to the network is related to the government.\n",
            "[01:56.000 --> 01:58.000]  The government can lodge it.\n",
            "[01:58.000 --> 02:01.000]  So, sir, will there be a case or not?\n",
            "[02:01.000 --> 02:02.000]  Absolutely, sir.\n",
            "[02:02.000 --> 02:04.000]  There will be a case and you will be given a proper resolution.\n",
            "[02:04.000 --> 02:08.000]  But, you have to give the details of the complaint properly.\n",
            "[02:08.000 --> 02:11.000]  Otherwise, there will be a case.\n",
            "[02:11.000 --> 02:12.000]  Yes, sir.\n",
            "[02:12.000 --> 02:13.000]  Absolutely.\n",
            "[02:13.000 --> 02:14.000]  There will be no problem in the investigation.\n",
            "[02:14.000 --> 02:16.000]  The complaint you have given is incomplete information.\n",
            "[02:16.000 --> 02:18.000]  You can't file a complaint.\n",
            "[02:18.000 --> 02:19.000]  Ok, sir.\n",
            "[02:19.000 --> 02:20.000]  It is difficult.\n",
            "[02:20.000 --> 02:22.000]  But, the department has said that you have to give the full details.\n",
            "[02:22.000 --> 02:25.000]  Like, you have to give the details of your bank.\n",
            "[02:25.000 --> 02:30.000]  And, you have to mention the number from which you are getting the call.\n",
            "[02:30.000 --> 02:34.000]  And, you have to provide the details properly.\n",
            "[02:34.000 --> 02:36.000]  Ok, sir.\n",
            "[02:36.000 --> 02:38.000]  So, are you satisfied with the answer?\n",
            "[02:38.000 --> 02:40.000]  Sir, you have got the answer.\n",
            "[02:40.000 --> 02:41.000]  Yes, sir.\n",
            "[02:41.000 --> 02:43.000]  Are you satisfied with the answer?\n",
            "[02:43.000 --> 02:44.000]  Are you satisfied with the answer?\n",
            "[02:44.000 --> 02:45.000]  Yes, sir.\n",
            "[02:45.000 --> 02:46.000]  Ok.\n",
            "[02:46.000 --> 02:48.000]  So, what should the department do in this case?\n",
            "[02:48.000 --> 02:49.000]  You have got the response.\n",
            "[02:49.000 --> 02:50.000]  Ok, sir.\n",
            "[02:50.000 --> 02:54.000]  So, what should the department do in this case?\n",
            "[02:54.000 --> 02:57.000]  S.D.: For the matter I have not got information in the file.\n",
            "[02:57.000 --> 02:58.000]  Ok, sir.\n",
            "[02:58.000 --> 02:59.000]  It is not there, sir.\n",
            "[02:59.000 --> 03:00.000]  I liked the point.\n",
            "[03:00.000 --> 03:01.000]  S.D.:Yes.\n",
            "[03:01.000 --> 03:02.000]  Thank you very much, sir, for giving the full rating.\n",
            "[03:02.000 --> 03:03.000]  Sir, sir, the department is keeping this rating constant.\n",
            "[03:03.000 --> 03:04.000]  And, the whole thing has been tried.\n",
            "[03:04.000 --> 03:05.000]  And, our service has improved a lot.\n",
            "[03:05.000 --> 03:06.000]  Yes, sir.\n",
            "[03:06.000 --> 03:07.000]  Thank you, sir.\n",
            "[03:07.000 --> 03:08.000]  Yes, sir.\n",
            "[03:08.000 --> 03:09.000]  Thank you very much, sir, for giving your complete time.\n",
            "[03:09.000 --> 03:10.000]  Have a good day.\n",
            "[03:10.000 --> 03:11.000]  Thank you, sir.\n",
            "[03:11.000 --> 03:12.000]  Thank you.\n",
            "[03:12.000 --> 03:13.000]  S.D.: You are welcome.\n",
            " Hello Hello, I am from Department of Administrative Reforms and Public Revenues, Mahita from New Delhi. I am talking to Mr. Jayjit Ikar. Yes, tell me. Mr. Jayjit, you lost your grievance to Department of Financial Services regarding Reserve Bank of India on 7th November, 2013. Your grievance number 0076180. A survey has been called to know your satisfaction level. Sir, have you checked the answer given to you by the Department? No, I didn't understand. Sir, you raised your grievance and filed a complaint to the Department. Yes. You wrote that you get a call from an unknown number and OTP is asked. Yes, sir, I get a lot. Yes, sir, I get a lot. I get a lot of spam calls. Yes, sir. So, you were called regarding this. Sir, you were given the answer from the Department. They said that the information given to you regarding your complaint is enough. You have not given enough information. Because of which, the case is not being filed. So, you will have to file a complaint. Your bank name and details of the complaint will have to be mentioned. The number from which the call is coming, it will be mentioned there. So that it can be filed properly. Ok, ok. Sir, you have called from the city, right? Yes, sir. Sir, I have to complain about one more thing. Yes. Sir, there is a lack of network in our village. Can anything happen in that? Yes, absolutely, sir. You can file a complaint in the telecommunications department. If there is a network issue. That means, it is too much. Yes, sir. You can file a complaint. But, the problem related to the network is related to the government. The government can lodge it. So, sir, will there be a case or not? Absolutely, sir. There will be a case and you will be given a proper resolution. But, you have to give the details of the complaint properly. Otherwise, there will be a case. Yes, sir. Absolutely. There will be no problem in the investigation. The complaint you have given is incomplete information. You can't file a complaint. Ok, sir. It is difficult. But, the department has said that you have to give the full details. Like, you have to give the details of your bank. And, you have to mention the number from which you are getting the call. And, you have to provide the details properly. Ok, sir. So, are you satisfied with the answer? Sir, you have got the answer. Yes, sir. Are you satisfied with the answer? Are you satisfied with the answer? Yes, sir. Ok. So, what should the department do in this case? You have got the response. Ok, sir. So, what should the department do in this case? S.D.: For the matter I have not got information in the file. Ok, sir. It is not there, sir. I liked the point. S.D.:Yes. Thank you very much, sir, for giving the full rating. Sir, sir, the department is keeping this rating constant. And, the whole thing has been tried. And, our service has improved a lot. Yes, sir. Thank you, sir. Yes, sir. Thank you very much, sir, for giving your complete time. Have a good day. Thank you, sir. Thank you. S.D.: You are welcome.\n"
          ]
        }
      ]
    },
    {
      "cell_type": "code",
      "source": [
        "import whisper\n",
        "from pydub import AudioSegment\n",
        "import os\n",
        "\n",
        "def convert_to_wav(audio_file):\n",
        "    # Convert audio file to WAV format\n",
        "    sound = AudioSegment.from_file(audio_file)\n",
        "    wav_file = os.path.splitext(audio_file)[0] + \".wav\"\n",
        "    sound.export(wav_file, format=\"wav\")\n",
        "    return wav_file\n",
        "\n",
        "def transcribe_audio_to_english(audio_file):\n",
        "    try:\n",
        "        model = whisper.load_model(\"large-v3\")\n",
        "        result = model.transcribe(audio_file, fp16=False, task='translate', verbose=True)\n",
        "        return result[\"text\"]\n",
        "    except Exception as e:\n",
        "        print(f\"Error transcribing {audio_file}: {str(e)}\")\n",
        "        return None\n",
        "\n",
        "if __name__ == \"__main__\":\n",
        "    audio_file = input(\"Enter the path of the audio file: \")\n",
        "\n",
        "    if os.path.exists(audio_file):\n",
        "        if audio_file.lower().endswith(('.mp3', '.wav', '.ogg')):\n",
        "            if audio_file.lower().endswith('.mp3'):\n",
        "                audio_file = convert_to_wav(audio_file)\n",
        "            transcription = transcribe_audio_to_english(audio_file)\n",
        "            if transcription:\n",
        "                print(f\"Transcription for {audio_file}: {transcription}\")\n",
        "            else:\n",
        "                print(f\"Failed to transcribe {audio_file}.\")\n",
        "            if audio_file.lower().endswith('.wav'):\n",
        "                os.remove(audio_file)  # Remove temporary WAV file\n",
        "        else:\n",
        "            print(f\"Unsupported audio format: {audio_file}\")\n",
        "    else:\n",
        "        print(\"File not found. Please provide a valid file path.\")\n"
      ],
      "metadata": {
        "colab": {
          "base_uri": "https://localhost:8080/"
        },
        "id": "mZZoDejszY2Y",
        "outputId": "72a2422e-25da-44a3-bfa3-6d86458b4ce0"
      },
      "execution_count": null,
      "outputs": [
        {
          "output_type": "stream",
          "name": "stdout",
          "text": [
            "Detecting language using up to the first 30 seconds. Use `--language` to specify the language\n",
            "Detected language: Urdu\n",
            "[00:00.000 --> 00:02.000]  Hello\n",
            "[00:02.000 --> 00:03.000]  Hello\n",
            "[00:03.000 --> 00:09.000]  Hello, I am from Department of Administrative Reforms and Public Revenues.\n",
            "[00:09.000 --> 00:11.000]  Can you hear me?\n",
            "[00:11.000 --> 00:13.000]  Yes, tell me.\n",
            "[00:13.000 --> 00:18.000]  Hello, I am from Chidhar City.\n",
            "[00:18.000 --> 00:19.000]  Yes\n",
            "[00:19.000 --> 00:23.000]  Did you judge the case in the CT Gram Portal?\n",
            "[00:23.000 --> 00:25.000]  Where?\n",
            "[00:25.000 --> 00:28.000]  In the CT Gram Portal.\n",
            "[00:28.000 --> 00:30.000]  What did you judge?\n",
            "[00:30.000 --> 00:39.000]  You have judged the case in the Central Board of Interest Taxes and Customs on 15th May.\n",
            "[00:39.000 --> 00:42.000]  By the Public Revenues Portal.\n",
            "[00:42.000 --> 00:43.000]  Yes\n",
            "[00:43.000 --> 00:46.000]  Yes, so the CT Gram has called you. When will you be able to reach?\n",
            "[00:46.000 --> 00:49.000]  Actually, I am traveling now. I am in the train.\n",
            "[00:49.000 --> 00:50.000]  Yes\n",
            "[00:50.000 --> 00:54.000]  So, if I can call you later, it would be better.\n",
            "[00:54.000 --> 00:58.000]  I had already spoken to you earlier and asked you to open it.\n",
            "[00:58.000 --> 01:03.000]  Yes, so your server is not complete. So, I will call you again. Okay sir.\n",
            "[01:03.000 --> 01:11.000]  Sir, your complaint number is 0101550. You have been denied for this. What did you do?\n",
            "[01:11.000 --> 01:13.000]  I am not satisfied.\n",
            "[01:13.000 --> 01:18.000]  You are not satisfied? Okay, I will go to the court and ask for a resolution.\n",
            "[01:18.000 --> 01:20.000]  Are you not satisfied?\n",
            "[01:20.000 --> 01:27.000]  There is no resolution in it. When I sent my problem, I did not get any resolution.\n",
            "[01:27.000 --> 01:35.000]  Okay sir. If I go to the CT Gram, I will follow your complaint from here. Okay sir.\n",
            "[01:35.000 --> 01:39.000]  So, what rating do you want? 4 or 4?\n",
            "[01:39.000 --> 01:40.000]  4, 4, 4.\n",
            "[01:40.000 --> 01:41.000]  4.\n",
            "[01:41.000 --> 01:47.000]  If I go to the CT Gram, I will follow your complaint from here. Okay sir.\n",
            "[01:47.000 --> 01:55.000]  Regarding this, if you want to get a resolution, regarding this, you can file a complaint again and then appeal.\n",
            "[01:55.000 --> 01:56.000]  Sure.\n",
            "[01:56.000 --> 01:58.000]  You will not go to the court, right?\n",
            "[01:58.000 --> 02:00.000]  I will not go to the court now.\n",
            "[02:00.000 --> 02:01.000]  Okay.\n",
            "[02:01.000 --> 02:04.000]  I am still in communication with the court.\n",
            "[02:04.000 --> 02:05.000]  Okay, I will call you again.\n",
            "[02:05.000 --> 02:07.000]  So, I will continue.\n",
            "[02:07.000 --> 02:10.000]  After that, I will think of the next step.\n",
            "[02:10.000 --> 02:11.000]  Okay.\n",
            "[02:11.000 --> 02:12.000]  Okay.\n",
            "[02:12.000 --> 02:16.000]  Manohar sir, so your concern is that you will go to the court today, right?\n",
            "[02:16.000 --> 02:18.000]  I am so grateful to you for this.\n",
            "[02:18.000 --> 02:19.000]  Thank you.\n",
            "[02:19.000 --> 02:20.000]  Thank you.\n",
            "[02:20.000 --> 02:21.000]  You did a good job.\n",
            "Transcription for /content/audio.wav:  Hello Hello Hello, I am from Department of Administrative Reforms and Public Revenues. Can you hear me? Yes, tell me. Hello, I am from Chidhar City. Yes Did you judge the case in the CT Gram Portal? Where? In the CT Gram Portal. What did you judge? You have judged the case in the Central Board of Interest Taxes and Customs on 15th May. By the Public Revenues Portal. Yes Yes, so the CT Gram has called you. When will you be able to reach? Actually, I am traveling now. I am in the train. Yes So, if I can call you later, it would be better. I had already spoken to you earlier and asked you to open it. Yes, so your server is not complete. So, I will call you again. Okay sir. Sir, your complaint number is 0101550. You have been denied for this. What did you do? I am not satisfied. You are not satisfied? Okay, I will go to the court and ask for a resolution. Are you not satisfied? There is no resolution in it. When I sent my problem, I did not get any resolution. Okay sir. If I go to the CT Gram, I will follow your complaint from here. Okay sir. So, what rating do you want? 4 or 4? 4, 4, 4. 4. If I go to the CT Gram, I will follow your complaint from here. Okay sir. Regarding this, if you want to get a resolution, regarding this, you can file a complaint again and then appeal. Sure. You will not go to the court, right? I will not go to the court now. Okay. I am still in communication with the court. Okay, I will call you again. So, I will continue. After that, I will think of the next step. Okay. Okay. Manohar sir, so your concern is that you will go to the court today, right? I am so grateful to you for this. Thank you. Thank you. You did a good job.\n"
          ]
        }
      ]
    },
    {
      "cell_type": "code",
      "source": [
        "pip install pydub"
      ],
      "metadata": {
        "colab": {
          "base_uri": "https://localhost:8080/"
        },
        "id": "mrXgKRuczhv2",
        "outputId": "ea7aa793-7520-4d8c-eca7-a348c22c34da"
      },
      "execution_count": null,
      "outputs": [
        {
          "output_type": "stream",
          "name": "stdout",
          "text": [
            "Collecting pydub\n",
            "  Downloading pydub-0.25.1-py2.py3-none-any.whl (32 kB)\n",
            "Installing collected packages: pydub\n",
            "Successfully installed pydub-0.25.1\n"
          ]
        }
      ]
    },
    {
      "cell_type": "code",
      "source": [
        "import whisper\n",
        "model = whisper.load_model(\"small\")\n",
        "result = model.transcribe(\"audio1.mp3\", fp16=False,task='translate',verbose=True)\n",
        "print(result[\"text\"])"
      ],
      "metadata": {
        "colab": {
          "base_uri": "https://localhost:8080/"
        },
        "id": "oMGLZWk0me4K",
        "outputId": "60c31f45-899d-481b-dd7c-bbf414babbcd"
      },
      "execution_count": null,
      "outputs": [
        {
          "output_type": "stream",
          "name": "stdout",
          "text": [
            "Detecting language using up to the first 30 seconds. Use `--language` to specify the language\n",
            "Detected language: Hindi\n",
            "[00:00.000 --> 00:02.000]  Hello.\n",
            "[00:02.000 --> 00:03.000]  Yes, hello.\n",
            "[00:03.000 --> 00:08.000]  I am the Department of Administrative Reforms and Public Irrigation.\n",
            "[00:08.000 --> 00:10.000]  I am talking to you from Delhi.\n",
            "[00:10.000 --> 00:13.000]  What is the matter with you?\n",
            "[00:13.000 --> 00:15.000]  Tell me.\n",
            "[00:15.000 --> 00:17.000]  I am talking to you from July 7th, 2019,\n",
            "[00:17.000 --> 00:20.000]  with the support of the Reserve Bank of India.\n",
            "[00:20.000 --> 00:23.000]  You have lost your department of financial service.\n",
            "[00:23.000 --> 00:27.000]  Your Irrigation number is 0076180.\n",
            "[00:27.000 --> 00:30.000]  Do you understand your satisfaction level?\n",
            "[00:30.000 --> 00:36.000]  Sir, you have checked the answer from the department.\n",
            "[00:36.000 --> 00:39.000]  I don't understand.\n",
            "[00:39.000 --> 00:44.000]  Sir, you have raised your complaints to the department.\n",
            "[00:44.000 --> 00:51.000]  You have written that the number from unknown number is called and the OTP is asked.\n",
            "[00:51.000 --> 00:53.000]  Yes sir, it is called a lot.\n",
            "[00:53.000 --> 00:55.000]  The spam call is called a lot.\n",
            "[00:55.000 --> 01:00.000]  Sir, you have answered the department's question.\n",
            "[01:00.000 --> 01:16.000]  The bank's name is the bank's details.\n",
            "[01:16.000 --> 01:29.000]  You have to mention the number from the call and the OTP is called.\n",
            "[01:29.000 --> 01:31.000]  Yes sir.\n",
            "[01:31.000 --> 01:35.000]  Sir, I have to complain.\n",
            "[01:35.000 --> 01:39.000]  There are very few people in our village who can lose their money.\n",
            "[01:39.000 --> 01:41.000]  Yes, absolutely sir.\n",
            "[01:41.000 --> 01:43.000]  The department has a telecommunication.\n",
            "[01:43.000 --> 01:45.000]  They can get you a job.\n",
            "[01:45.000 --> 01:47.000]  How is the network?\n",
            "[01:47.000 --> 01:49.000]  It is very much.\n",
            "[01:49.000 --> 01:51.000]  Yes, absolutely.\n",
            "[01:51.000 --> 01:58.000]  The common knowledge problem is that the bank can lodge a complaint.\n",
            "[01:58.000 --> 02:01.000]  Sir, is this a business or not?\n",
            "[02:01.000 --> 02:03.000]  Absolutely, it is a business.\n",
            "[02:03.000 --> 02:08.000]  Sir, you have to give the details of the proper job.\n",
            "[02:08.000 --> 02:11.000]  Sir, you have to give the details of the proper job.\n",
            "[02:11.000 --> 02:12.000]  Yes sir.\n",
            "[02:12.000 --> 02:14.000]  There is a problem with the job.\n",
            "[02:14.000 --> 02:16.000]  The department has a long term plan.\n",
            "[02:16.000 --> 02:18.000]  You cannot do the work properly.\n",
            "[02:18.000 --> 02:19.000]  Okay sir.\n",
            "[02:19.000 --> 02:24.000]  That is why I have told you to give the details of the bank's details.\n",
            "[02:24.000 --> 02:30.000]  You have to mention the number from the bank's details.\n",
            "[02:30.000 --> 02:34.000]  Sir, you have to give the details of the proper job.\n",
            "[02:34.000 --> 02:36.000]  Yes sir.\n",
            "[02:36.000 --> 02:38.000]  So, the answer is required now.\n",
            "[02:38.000 --> 02:40.000]  Sir, did you give the answer?\n",
            "[02:40.000 --> 02:41.000]  Yes sir.\n",
            "[02:41.000 --> 02:43.000]  The answer is required now.\n",
            "[02:43.000 --> 02:45.000]  The answer is required now.\n",
            "[02:45.000 --> 02:49.000]  Sir, what is the rating of the department that you want to give the response to?\n",
            "[02:49.000 --> 02:50.000]  Out of 5.\n",
            "[02:50.000 --> 02:51.000]  Out of 5 sir.\n",
            "[02:51.000 --> 02:52.000]  Sir, I have not given the response to 5.\n",
            "[02:52.000 --> 02:53.000]  I have given the response to 5.\n",
            "[02:53.000 --> 02:57.000]  Thank you very much sir for giving the full rating.\n",
            "[02:57.000 --> 03:00.000]  Sir, your rating is being shared by the concerned department.\n",
            "[03:00.000 --> 03:03.000]  And the entire process will be done by the service.\n",
            "[03:03.000 --> 03:04.000]  It is better to do it.\n",
            "[03:04.000 --> 03:05.000]  Yes sir.\n",
            "[03:05.000 --> 03:06.000]  Thank you sir.\n",
            "[03:06.000 --> 03:07.000]  Yes, of course sir.\n",
            "[03:07.000 --> 03:09.000]  Thank you very much for giving the full rating.\n",
            "[03:09.000 --> 03:11.000]  Your day is over.\n",
            "[03:11.000 --> 03:12.000]  Thank you sir.\n",
            "[03:12.000 --> 03:13.000]  Thank you.\n",
            "[03:13.000 --> 03:14.000]  You are welcome.\n",
            " Hello. Yes, hello. I am the Department of Administrative Reforms and Public Irrigation. I am talking to you from Delhi. What is the matter with you? Tell me. I am talking to you from July 7th, 2019, with the support of the Reserve Bank of India. You have lost your department of financial service. Your Irrigation number is 0076180. Do you understand your satisfaction level? Sir, you have checked the answer from the department. I don't understand. Sir, you have raised your complaints to the department. You have written that the number from unknown number is called and the OTP is asked. Yes sir, it is called a lot. The spam call is called a lot. Sir, you have answered the department's question. The bank's name is the bank's details. You have to mention the number from the call and the OTP is called. Yes sir. Sir, I have to complain. There are very few people in our village who can lose their money. Yes, absolutely sir. The department has a telecommunication. They can get you a job. How is the network? It is very much. Yes, absolutely. The common knowledge problem is that the bank can lodge a complaint. Sir, is this a business or not? Absolutely, it is a business. Sir, you have to give the details of the proper job. Sir, you have to give the details of the proper job. Yes sir. There is a problem with the job. The department has a long term plan. You cannot do the work properly. Okay sir. That is why I have told you to give the details of the bank's details. You have to mention the number from the bank's details. Sir, you have to give the details of the proper job. Yes sir. So, the answer is required now. Sir, did you give the answer? Yes sir. The answer is required now. The answer is required now. Sir, what is the rating of the department that you want to give the response to? Out of 5. Out of 5 sir. Sir, I have not given the response to 5. I have given the response to 5. Thank you very much sir for giving the full rating. Sir, your rating is being shared by the concerned department. And the entire process will be done by the service. It is better to do it. Yes sir. Thank you sir. Yes, of course sir. Thank you very much for giving the full rating. Your day is over. Thank you sir. Thank you. You are welcome.\n"
          ]
        }
      ]
    }
  ]
}